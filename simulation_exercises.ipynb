{
 "cells": [
  {
   "cell_type": "markdown",
   "id": "74d134a0",
   "metadata": {},
   "source": [
    "# Exercises"
   ]
  },
  {
   "cell_type": "code",
   "execution_count": 19,
   "id": "72d97f22",
   "metadata": {},
   "outputs": [],
   "source": [
    "# numpy for vectorized array operations\n",
    "import numpy as np\n",
    "\n",
    "# pandas for proper tabular manipulation\n",
    "import pandas as pd"
   ]
  },
  {
   "cell_type": "markdown",
   "id": "85253348",
   "metadata": {},
   "source": [
    "Using the repo setup directions, setup a new local and remote repository named statistics-exercises. The local version of your repo should live inside of ~/codeup-data-science. This repo should be named statistics-exercises"
   ]
  },
  {
   "cell_type": "markdown",
   "id": "4f965979",
   "metadata": {},
   "source": [
    "Do your work for this exercise in either a python file named simulation.py or a jupyter notebook named simulation.ipynb."
   ]
  },
  {
   "cell_type": "code",
   "execution_count": 38,
   "id": "2057dfa6",
   "metadata": {},
   "outputs": [],
   "source": [
    "np.random.seed(123)\n",
    "n_trials = 100_000"
   ]
  },
  {
   "cell_type": "markdown",
   "id": "3edff363",
   "metadata": {},
   "source": [
    "### How likely is it that you roll doubles when rolling two dice?"
   ]
  },
  {
   "cell_type": "code",
   "execution_count": 39,
   "id": "2c4e6f68",
   "metadata": {},
   "outputs": [],
   "source": [
    "#setup\n",
    "outcomes = [1,2,3,4,5,6]\n",
    "n_dice = 2"
   ]
  },
  {
   "cell_type": "code",
   "execution_count": 40,
   "id": "67bc9c9f",
   "metadata": {},
   "outputs": [
    {
     "data": {
      "text/plain": [
       "array([[6, 3],\n",
       "       [5, 3],\n",
       "       [2, 4],\n",
       "       ...,\n",
       "       [5, 5],\n",
       "       [5, 4],\n",
       "       [4, 6]])"
      ]
     },
     "execution_count": 40,
     "metadata": {},
     "output_type": "execute_result"
    }
   ],
   "source": [
    "#roll the dice aka simulations\n",
    "rolls = np.random.choice(outcomes, (n_trials, n_dice))\n",
    "rolls"
   ]
  },
  {
   "cell_type": "code",
   "execution_count": 41,
   "id": "b749f1ef",
   "metadata": {},
   "outputs": [
    {
     "data": {
      "text/plain": [
       "array([6, 5, 2, ..., 5, 5, 4])"
      ]
     },
     "execution_count": 41,
     "metadata": {},
     "output_type": "execute_result"
    }
   ],
   "source": [
    "rolls[:,0] #rows, columns"
   ]
  },
  {
   "cell_type": "code",
   "execution_count": 42,
   "id": "a83878cb",
   "metadata": {},
   "outputs": [
    {
     "data": {
      "text/plain": [
       "array([3, 3, 4, ..., 5, 4, 6])"
      ]
     },
     "execution_count": 42,
     "metadata": {},
     "output_type": "execute_result"
    }
   ],
   "source": [
    "rolls[:,1] #rows, columns"
   ]
  },
  {
   "cell_type": "code",
   "execution_count": 43,
   "id": "5607c530",
   "metadata": {},
   "outputs": [
    {
     "data": {
      "text/plain": [
       "array([False, False, False, ...,  True, False, False])"
      ]
     },
     "execution_count": 43,
     "metadata": {},
     "output_type": "execute_result"
    }
   ],
   "source": [
    "rolls[:,0] == rolls[:,1]"
   ]
  },
  {
   "cell_type": "code",
   "execution_count": 51,
   "id": "f2ec9b19",
   "metadata": {},
   "outputs": [
    {
     "data": {
      "text/plain": [
       "array([[6, 5, 2, ..., 5, 5, 4],\n",
       "       [3, 3, 4, ..., 5, 4, 6]])"
      ]
     },
     "execution_count": 51,
     "metadata": {},
     "output_type": "execute_result"
    }
   ],
   "source": [
    "rolls.T"
   ]
  },
  {
   "cell_type": "code",
   "execution_count": 52,
   "id": "5ea9400e",
   "metadata": {},
   "outputs": [
    {
     "data": {
      "text/plain": [
       "array([6, 5, 2, ..., 5, 5, 4])"
      ]
     },
     "execution_count": 52,
     "metadata": {},
     "output_type": "execute_result"
    }
   ],
   "source": [
    "rolls.T[0]"
   ]
  },
  {
   "cell_type": "code",
   "execution_count": 53,
   "id": "1de9a1fa",
   "metadata": {},
   "outputs": [
    {
     "data": {
      "text/plain": [
       "array([3, 3, 4, ..., 5, 4, 6])"
      ]
     },
     "execution_count": 53,
     "metadata": {},
     "output_type": "execute_result"
    }
   ],
   "source": [
    "rolls.T[1]"
   ]
  },
  {
   "cell_type": "code",
   "execution_count": 54,
   "id": "218b87f5",
   "metadata": {},
   "outputs": [
    {
     "data": {
      "text/plain": [
       "array([False, False, False, ...,  True, False, False])"
      ]
     },
     "execution_count": 54,
     "metadata": {},
     "output_type": "execute_result"
    }
   ],
   "source": [
    "#find doubles\n",
    "doubles = rolls[:,0] == rolls[:,1]\n",
    "doubles"
   ]
  },
  {
   "cell_type": "code",
   "execution_count": 55,
   "id": "0a8fd647",
   "metadata": {},
   "outputs": [
    {
     "data": {
      "text/plain": [
       "16497"
      ]
     },
     "execution_count": 55,
     "metadata": {},
     "output_type": "execute_result"
    }
   ],
   "source": [
    "doubles.sum()"
   ]
  },
  {
   "cell_type": "code",
   "execution_count": 57,
   "id": "581a71ed",
   "metadata": {},
   "outputs": [
    {
     "data": {
      "text/plain": [
       "100000"
      ]
     },
     "execution_count": 57,
     "metadata": {},
     "output_type": "execute_result"
    }
   ],
   "source": [
    "n_trials"
   ]
  },
  {
   "cell_type": "code",
   "execution_count": 58,
   "id": "693e7593",
   "metadata": {},
   "outputs": [
    {
     "data": {
      "text/plain": [
       "100000"
      ]
     },
     "execution_count": 58,
     "metadata": {},
     "output_type": "execute_result"
    }
   ],
   "source": [
    "len(doubles)"
   ]
  },
  {
   "cell_type": "code",
   "execution_count": 59,
   "id": "3b59d049",
   "metadata": {},
   "outputs": [
    {
     "data": {
      "text/plain": [
       "array([False, False, False, ...,  True, False, False])"
      ]
     },
     "execution_count": 59,
     "metadata": {},
     "output_type": "execute_result"
    }
   ],
   "source": [
    "doubles"
   ]
  },
  {
   "cell_type": "code",
   "execution_count": 60,
   "id": "4a16b679",
   "metadata": {},
   "outputs": [
    {
     "data": {
      "text/plain": [
       "0.16497"
      ]
     },
     "execution_count": 60,
     "metadata": {},
     "output_type": "execute_result"
    }
   ],
   "source": [
    "doubles.sum() / len(doubles)"
   ]
  },
  {
   "cell_type": "code",
   "execution_count": 61,
   "id": "77f37a39",
   "metadata": {},
   "outputs": [
    {
     "data": {
      "text/plain": [
       "0.16497"
      ]
     },
     "execution_count": 61,
     "metadata": {},
     "output_type": "execute_result"
    }
   ],
   "source": [
    "doubles.mean() #short way of doing line above"
   ]
  },
  {
   "cell_type": "markdown",
   "id": "ebdf89e8",
   "metadata": {},
   "source": [
    "If you flip 8 coins, what is the probability of getting exactly 3 heads? What is the probability of getting more than 3 heads?"
   ]
  },
  {
   "cell_type": "code",
   "execution_count": 23,
   "id": "b424bac4",
   "metadata": {},
   "outputs": [],
   "source": [
    "outcomes = ['h', 't']\n",
    "n_coins = 8"
   ]
  },
  {
   "cell_type": "code",
   "execution_count": 24,
   "id": "18655004",
   "metadata": {},
   "outputs": [
    {
     "data": {
      "text/plain": [
       "array([['h', 't', 'h', ..., 'h', 'h', 't'],\n",
       "       ['t', 'h', 't', ..., 't', 'h', 't'],\n",
       "       ['h', 't', 't', ..., 'h', 't', 't'],\n",
       "       ...,\n",
       "       ['h', 'h', 'h', ..., 't', 't', 'h'],\n",
       "       ['t', 'h', 'h', ..., 't', 'h', 'h'],\n",
       "       ['h', 'h', 't', ..., 't', 'h', 'h']], dtype='<U1')"
      ]
     },
     "execution_count": 24,
     "metadata": {},
     "output_type": "execute_result"
    }
   ],
   "source": [
    "flips = np.random.choice(outcomes, (n_trials, n_coins))\n",
    "flips"
   ]
  },
  {
   "cell_type": "code",
   "execution_count": 25,
   "id": "7795aa19",
   "metadata": {},
   "outputs": [
    {
     "data": {
      "text/plain": [
       "array([6, 3, 4, ..., 5, 5, 6])"
      ]
     },
     "execution_count": 25,
     "metadata": {},
     "output_type": "execute_result"
    }
   ],
   "source": [
    "heads_per_sim = (flips == 'h').sum(axis=1)\n",
    "heads_per_sim"
   ]
  },
  {
   "cell_type": "code",
   "execution_count": 26,
   "id": "76cd7457",
   "metadata": {},
   "outputs": [
    {
     "data": {
      "text/plain": [
       "0.21562"
      ]
     },
     "execution_count": 26,
     "metadata": {},
     "output_type": "execute_result"
    }
   ],
   "source": [
    "(heads_per_sim == 3).mean()"
   ]
  },
  {
   "cell_type": "code",
   "execution_count": 27,
   "id": "a0fa5b3e",
   "metadata": {},
   "outputs": [
    {
     "data": {
      "text/plain": [
       "0.63886"
      ]
     },
     "execution_count": 27,
     "metadata": {},
     "output_type": "execute_result"
    }
   ],
   "source": [
    "(heads_per_sim > 3).mean()"
   ]
  },
  {
   "cell_type": "markdown",
   "id": "0381a096",
   "metadata": {},
   "source": [
    "### There are approximitely 3 web development cohorts for every 1 data science cohort at Codeup. Assuming that Codeup randomly selects an alumni to put on a billboard, what are the odds that the two billboards I drive past both have data science students on them?"
   ]
  },
  {
   "cell_type": "code",
   "execution_count": 62,
   "id": "a88d4851",
   "metadata": {},
   "outputs": [],
   "source": [
    "outcomes = ['ds', 'wd', 'wd', 'wd']\n",
    "n_billboards = 2"
   ]
  },
  {
   "cell_type": "code",
   "execution_count": 63,
   "id": "8fdb6bda",
   "metadata": {},
   "outputs": [
    {
     "data": {
      "text/plain": [
       "array([['wd', 'wd'],\n",
       "       ['wd', 'wd'],\n",
       "       ['wd', 'wd'],\n",
       "       ...,\n",
       "       ['wd', 'wd'],\n",
       "       ['wd', 'wd'],\n",
       "       ['wd', 'wd']], dtype='<U2')"
      ]
     },
     "execution_count": 63,
     "metadata": {},
     "output_type": "execute_result"
    }
   ],
   "source": [
    "# one way of defining\n",
    "billboards = np.random.choice(outcomes, (n_trials, n_billboards))\n",
    "billboards"
   ]
  },
  {
   "cell_type": "code",
   "execution_count": 64,
   "id": "eaea2142",
   "metadata": {},
   "outputs": [],
   "source": [
    "#another way of defining our billboards\n",
    "outcomes = ['ds', 'wd']"
   ]
  },
  {
   "cell_type": "code",
   "execution_count": 65,
   "id": "2b7f5c97",
   "metadata": {},
   "outputs": [
    {
     "data": {
      "text/plain": [
       "array([['wd', 'wd'],\n",
       "       ['wd', 'ds'],\n",
       "       ['wd', 'ds'],\n",
       "       ...,\n",
       "       ['ds', 'wd'],\n",
       "       ['ds', 'wd'],\n",
       "       ['wd', 'wd']], dtype='<U2')"
      ]
     },
     "execution_count": 65,
     "metadata": {},
     "output_type": "execute_result"
    }
   ],
   "source": [
    "billboards = np.random.choice(outcomes, (n_trials, n_billboards), \n",
    "                              p=[0.25,0.75]) #more programmatic way\n",
    "billboards"
   ]
  },
  {
   "cell_type": "code",
   "execution_count": 66,
   "id": "0cfcfaad",
   "metadata": {},
   "outputs": [
    {
     "data": {
      "text/plain": [
       "array([0, 1, 1, ..., 1, 1, 0])"
      ]
     },
     "execution_count": 66,
     "metadata": {},
     "output_type": "execute_result"
    }
   ],
   "source": [
    "ds_billboards = (billboards == 'ds').sum(axis=1)\n",
    "ds_billboards"
   ]
  },
  {
   "cell_type": "code",
   "execution_count": 67,
   "id": "bf24afd1",
   "metadata": {},
   "outputs": [
    {
     "data": {
      "text/plain": [
       "0.06225"
      ]
     },
     "execution_count": 67,
     "metadata": {},
     "output_type": "execute_result"
    }
   ],
   "source": [
    "(ds_billboards == 2).mean()"
   ]
  },
  {
   "cell_type": "code",
   "execution_count": null,
   "id": "e6c1188f",
   "metadata": {},
   "outputs": [],
   "source": [
    "# random.random method worked for Kelsey and Nomer"
   ]
  },
  {
   "cell_type": "markdown",
   "id": "66dd6740",
   "metadata": {},
   "source": [
    "### 4. Codeup students buy, on average, 3 poptart packages with a standard deviation of 1.5 a day from the snack vending machine. If on monday the machine is restocked with 17 poptart packages, how likely is it that I will be able to buy some poptarts on Friday afternoon? (Remember, if you have mean and standard deviation, use the np.random.normal) You'll need to make a judgement call on how to handle some of your values"
   ]
  },
  {
   "cell_type": "code",
   "execution_count": 50,
   "id": "a1e1f627",
   "metadata": {},
   "outputs": [],
   "source": [
    "μ = 3 \n",
    "σ = 1.5\n",
    "n_days = 5"
   ]
  },
  {
   "cell_type": "code",
   "execution_count": 52,
   "id": "d30d7581",
   "metadata": {},
   "outputs": [
    {
     "data": {
      "text/plain": [
       "array([[3.12664333, 1.878936  , 2.96322342, 2.93561674, 2.40733566],\n",
       "       [3.5390844 , 3.51875229, 3.30861337, 6.74992752, 3.53718038],\n",
       "       [3.5237069 , 1.67216539, 3.76697203, 4.86862779, 3.43352484],\n",
       "       ...,\n",
       "       [3.07100981, 4.03451335, 2.63755884, 3.97050888, 1.09070429],\n",
       "       [0.60841487, 4.74155473, 3.79632031, 4.56734109, 5.15113083],\n",
       "       [3.97233054, 3.87732036, 4.19280629, 3.40632919, 1.67284563]])"
      ]
     },
     "execution_count": 52,
     "metadata": {},
     "output_type": "execute_result"
    }
   ],
   "source": [
    "poptarts_purchased_daily = np.random.normal(μ, σ, (n_trials, n_days))\n",
    "poptarts_purchased_daily"
   ]
  },
  {
   "cell_type": "code",
   "execution_count": 54,
   "id": "c5c367e1",
   "metadata": {},
   "outputs": [
    {
     "data": {
      "text/plain": [
       "array([13.31175514, 20.65355795, 17.26499696, ..., 14.80429518,\n",
       "       18.86476183, 17.121632  ])"
      ]
     },
     "execution_count": 54,
     "metadata": {},
     "output_type": "execute_result"
    }
   ],
   "source": [
    "poptarts_purchased_weekly = poptarts_purchased_daily.sum(axis=1)\n",
    "poptarts_purchased_weekly"
   ]
  },
  {
   "cell_type": "code",
   "execution_count": 61,
   "id": "2b7c575a",
   "metadata": {},
   "outputs": [
    {
     "data": {
      "text/plain": [
       "array([ True, False, False, ...,  True, False, False])"
      ]
     },
     "execution_count": 61,
     "metadata": {},
     "output_type": "execute_result"
    }
   ],
   "source": [
    "# at least one poptart left so I can but it\n",
    "(17 - poptarts_purchased_weekly) >= 1    # > is fine compared to >= because the chance it's a whole number is rare"
   ]
  },
  {
   "cell_type": "code",
   "execution_count": 62,
   "id": "2dbc8b28",
   "metadata": {},
   "outputs": [
    {
     "data": {
      "text/plain": [
       "0.6179"
      ]
     },
     "execution_count": 62,
     "metadata": {},
     "output_type": "execute_result"
    }
   ],
   "source": [
    "((17 - poptarts_purchased_weekly) >= 1).mean()"
   ]
  },
  {
   "cell_type": "markdown",
   "id": "c85e2e2a",
   "metadata": {},
   "source": [
    "### 5. Compare Heights"
   ]
  },
  {
   "cell_type": "markdown",
   "id": "92ea143c",
   "metadata": {},
   "source": [
    "* Men have an average height of 178 cm and standard deviation of 8cm.\n",
    "\n",
    "* Women have a mean of 170, sd = 6cm.\n",
    "\n",
    "* Since you have means and standard deviations, you can use np.random.normal to generate observations.\n",
    "\n",
    "* If a man and woman are chosen at random, what is the likelihood the woman is taller than the man?"
   ]
  },
  {
   "cell_type": "code",
   "execution_count": 63,
   "id": "003faa14",
   "metadata": {},
   "outputs": [],
   "source": [
    "mean_men = 178\n",
    "sd_men = 8\n",
    "\n",
    "mean_women = 170\n",
    "sd_women = 6"
   ]
  },
  {
   "cell_type": "code",
   "execution_count": 64,
   "id": "76386329",
   "metadata": {},
   "outputs": [
    {
     "data": {
      "text/plain": [
       "array([175.58619908, 176.94212538, 180.56431691, ..., 178.58120539,\n",
       "       168.16285606, 186.44281336])"
      ]
     },
     "execution_count": 64,
     "metadata": {},
     "output_type": "execute_result"
    }
   ],
   "source": [
    "heights_men = np.random.normal(mean_men, sd_men, n_trials)\n",
    "heights_men"
   ]
  },
  {
   "cell_type": "code",
   "execution_count": 65,
   "id": "03f4b8ad",
   "metadata": {},
   "outputs": [
    {
     "data": {
      "text/plain": [
       "array([177.06055742, 169.92477933, 175.5139039 , ..., 172.25161538,\n",
       "       183.56471524, 166.37659483])"
      ]
     },
     "execution_count": 65,
     "metadata": {},
     "output_type": "execute_result"
    }
   ],
   "source": [
    "heights_women = np.random.normal(mean_women, sd_women, n_trials)\n",
    "heights_women"
   ]
  },
  {
   "cell_type": "code",
   "execution_count": 68,
   "id": "f03d6ff8",
   "metadata": {},
   "outputs": [
    {
     "data": {
      "text/plain": [
       "array([ True, False, False, ..., False,  True, False])"
      ]
     },
     "execution_count": 68,
     "metadata": {},
     "output_type": "execute_result"
    }
   ],
   "source": [
    "heights_women > heights_men"
   ]
  },
  {
   "cell_type": "code",
   "execution_count": 67,
   "id": "807891a6",
   "metadata": {},
   "outputs": [
    {
     "data": {
      "text/plain": [
       "0.2154"
      ]
     },
     "execution_count": 67,
     "metadata": {},
     "output_type": "execute_result"
    }
   ],
   "source": [
    "(heights_women > heights_men).mean()"
   ]
  },
  {
   "cell_type": "markdown",
   "id": "be6d24e7",
   "metadata": {},
   "source": [
    "### 6. When installing anaconda on a student's computer, there's a 1 in 250 chance that the download is corrupted and the installation fails. What are the odds that after having 50 students download anaconda, no one has an installation issue? "
   ]
  },
  {
   "cell_type": "code",
   "execution_count": 69,
   "id": "3d150b80",
   "metadata": {},
   "outputs": [],
   "source": [
    "outcomes = ['p', 'f']\n",
    "probs_outcomes = [249/250, 1/250]\n",
    "n_students = 50"
   ]
  },
  {
   "cell_type": "code",
   "execution_count": 70,
   "id": "de173d28",
   "metadata": {},
   "outputs": [
    {
     "data": {
      "text/plain": [
       "array([['p', 'p', 'p', ..., 'p', 'p', 'p'],\n",
       "       ['p', 'p', 'p', ..., 'p', 'p', 'p'],\n",
       "       ['p', 'p', 'p', ..., 'p', 'p', 'p'],\n",
       "       ...,\n",
       "       ['p', 'p', 'p', ..., 'p', 'p', 'p'],\n",
       "       ['p', 'p', 'p', ..., 'p', 'p', 'p'],\n",
       "       ['p', 'p', 'p', ..., 'p', 'p', 'p']], dtype='<U1')"
      ]
     },
     "execution_count": 70,
     "metadata": {},
     "output_type": "execute_result"
    }
   ],
   "source": [
    "installs = np.random.choice(outcomes, (n_trials, n_students), \n",
    "                 p=probs_outcomes)\n",
    "installs"
   ]
  },
  {
   "cell_type": "code",
   "execution_count": 71,
   "id": "55d9bb53",
   "metadata": {},
   "outputs": [
    {
     "data": {
      "text/plain": [
       "array([0, 0, 0, ..., 0, 1, 0])"
      ]
     },
     "execution_count": 71,
     "metadata": {},
     "output_type": "execute_result"
    }
   ],
   "source": [
    "total_fails = (installs == 'f').sum(axis=1)\n",
    "total_fails"
   ]
  },
  {
   "cell_type": "code",
   "execution_count": 72,
   "id": "0b41ac69",
   "metadata": {},
   "outputs": [
    {
     "data": {
      "text/plain": [
       "0.81923"
      ]
     },
     "execution_count": 72,
     "metadata": {},
     "output_type": "execute_result"
    }
   ],
   "source": [
    "(total_fails == 0).mean()"
   ]
  },
  {
   "cell_type": "markdown",
   "id": "a02a9edf",
   "metadata": {},
   "source": [
    "### 100 students?"
   ]
  },
  {
   "cell_type": "code",
   "execution_count": 73,
   "id": "45b17c95",
   "metadata": {},
   "outputs": [
    {
     "data": {
      "text/plain": [
       "0.67083"
      ]
     },
     "execution_count": 73,
     "metadata": {},
     "output_type": "execute_result"
    }
   ],
   "source": [
    "n_students = 100\n",
    "\n",
    "installs = np.random.choice(outcomes, (n_trials, n_students), \n",
    "                 p=probs_outcomes)\n",
    "\n",
    "total_fails = (installs == 'f').sum(axis=1)\n",
    "\n",
    "(total_fails == 0).mean()"
   ]
  },
  {
   "cell_type": "markdown",
   "id": "31ad163c",
   "metadata": {},
   "source": [
    "#### What is the probability that we observe an installation issue within the first 150 students that download anaconda?"
   ]
  },
  {
   "cell_type": "code",
   "execution_count": 74,
   "id": "0155f798",
   "metadata": {},
   "outputs": [
    {
     "data": {
      "text/plain": [
       "array([[False, False, False, ..., False, False, False],\n",
       "       [False, False, False, ..., False, False, False],\n",
       "       [False, False, False, ..., False, False, False],\n",
       "       ...,\n",
       "       [False, False, False, ..., False, False, False],\n",
       "       [False, False, False, ..., False, False, False],\n",
       "       [False, False, False, ..., False, False, False]])"
      ]
     },
     "execution_count": 74,
     "metadata": {},
     "output_type": "execute_result"
    }
   ],
   "source": [
    "installs == 'f'"
   ]
  },
  {
   "cell_type": "code",
   "execution_count": 75,
   "id": "b2ff84d8",
   "metadata": {},
   "outputs": [
    {
     "data": {
      "text/plain": [
       "0.45171"
      ]
     },
     "execution_count": 75,
     "metadata": {},
     "output_type": "execute_result"
    }
   ],
   "source": [
    "# update to 150 students\n",
    "n_students = 150\n",
    "\n",
    "installs = np.random.choice(outcomes, (n_trials, n_students), \n",
    "                 p=probs_outcomes)\n",
    "\n",
    "total_fails = (installs == 'f').sum(axis=1)\n",
    "\n",
    "#update to at least one failure\n",
    "(total_fails > 0).mean()"
   ]
  },
  {
   "cell_type": "markdown",
   "id": "0df38210",
   "metadata": {},
   "source": [
    "#### How likely is it that 450 students all download anaconda without an issue?"
   ]
  },
  {
   "cell_type": "code",
   "execution_count": 76,
   "id": "8a81c2a0",
   "metadata": {},
   "outputs": [
    {
     "data": {
      "text/plain": [
       "0.16506"
      ]
     },
     "execution_count": 76,
     "metadata": {},
     "output_type": "execute_result"
    }
   ],
   "source": [
    "# update to 450 students\n",
    "n_students = 450\n",
    "\n",
    "installs = np.random.choice(outcomes, (n_trials, n_students), \n",
    "                 p=probs_outcomes)\n",
    "\n",
    "total_fails = (installs == 'f').sum(axis=1)\n",
    "\n",
    "# update to 0 failures\n",
    "(total_fails == 0).mean()"
   ]
  },
  {
   "cell_type": "markdown",
   "id": "25c17eb0",
   "metadata": {},
   "source": [
    "### 7. There's a 70% chance on any given day that there will be at least one food truck at Travis Park. However, you haven't seen a food truck there in 3 days. How unlikely is this?"
   ]
  },
  {
   "cell_type": "code",
   "execution_count": 80,
   "id": "b83f34c3",
   "metadata": {},
   "outputs": [],
   "source": [
    "p_truck = 0.7\n",
    "n_days = 3"
   ]
  },
  {
   "cell_type": "code",
   "execution_count": 83,
   "id": "3b315152",
   "metadata": {
    "scrolled": true
   },
   "outputs": [
    {
     "data": {
      "text/plain": [
       "array([[0.06188714, 0.75746495, 0.2187423 ],\n",
       "       [0.89529707, 0.50188288, 0.66007328],\n",
       "       [0.08516897, 0.28033745, 0.74838753],\n",
       "       ...,\n",
       "       [0.46732858, 0.39365545, 0.60106292],\n",
       "       [0.6812133 , 0.6294546 , 0.36646324],\n",
       "       [0.27605962, 0.49489929, 0.82130275]])"
      ]
     },
     "execution_count": 83,
     "metadata": {},
     "output_type": "execute_result"
    }
   ],
   "source": [
    "is_truck_question = np.random.random((n_trials, n_days))\n",
    "is_truck_question"
   ]
  },
  {
   "cell_type": "code",
   "execution_count": 85,
   "id": "547fa1b0",
   "metadata": {
    "scrolled": true
   },
   "outputs": [
    {
     "data": {
      "text/plain": [
       "array([[ True, False,  True],\n",
       "       [False,  True,  True],\n",
       "       [ True,  True, False],\n",
       "       ...,\n",
       "       [ True,  True,  True],\n",
       "       [ True,  True,  True],\n",
       "       [ True,  True, False]])"
      ]
     },
     "execution_count": 85,
     "metadata": {},
     "output_type": "execute_result"
    }
   ],
   "source": [
    "yes_truck = is_truck_question < p_truck\n",
    "yes_truck"
   ]
  },
  {
   "cell_type": "code",
   "execution_count": 86,
   "id": "87fb4996",
   "metadata": {},
   "outputs": [
    {
     "data": {
      "text/plain": [
       "0.02601"
      ]
     },
     "execution_count": 86,
     "metadata": {},
     "output_type": "execute_result"
    }
   ],
   "source": [
    "# how many times there is no truck there\n",
    "(yes_truck.sum(axis=1) == 0).mean()"
   ]
  },
  {
   "cell_type": "markdown",
   "id": "e4c12987",
   "metadata": {},
   "source": [
    "#### How likely is it that a food truck will show up sometime this week?"
   ]
  },
  {
   "cell_type": "code",
   "execution_count": 88,
   "id": "8478820b",
   "metadata": {},
   "outputs": [],
   "source": [
    "n_days = 5"
   ]
  },
  {
   "cell_type": "code",
   "execution_count": 89,
   "id": "2a41b1e1",
   "metadata": {},
   "outputs": [
    {
     "data": {
      "text/plain": [
       "0.99754"
      ]
     },
     "execution_count": 89,
     "metadata": {},
     "output_type": "execute_result"
    }
   ],
   "source": [
    "is_truck_question = np.random.random((n_trials, n_days))\n",
    "\n",
    "yes_truck = is_truck_question < p_truck\n",
    "\n",
    "# update to show at least one truck shows up this week\n",
    "(yes_truck.sum(axis=1) >=1).mean()"
   ]
  },
  {
   "cell_type": "markdown",
   "id": "632d4ba9",
   "metadata": {},
   "source": [
    "### 8. If 23 people are in the same room, what are the odds that two of them share a birthday?"
   ]
  },
  {
   "cell_type": "code",
   "execution_count": 97,
   "id": "9b879f36",
   "metadata": {},
   "outputs": [],
   "source": [
    "n_people = 23\n",
    "outcomes = list(range(1, 366))"
   ]
  },
  {
   "cell_type": "code",
   "execution_count": 100,
   "id": "7debc3dd",
   "metadata": {},
   "outputs": [
    {
     "data": {
      "text/plain": [
       "array([[345, 156, 195, ..., 169, 109, 197],\n",
       "       [200, 249, 270, ...,   6,  55, 237],\n",
       "       [321, 131,  78, ..., 322,  51, 198],\n",
       "       ...,\n",
       "       [ 85, 200, 211, ..., 182, 193,  33],\n",
       "       [208, 312, 162, ...,  90, 262, 204],\n",
       "       [132,  52, 150, ..., 274, 141,  23]])"
      ]
     },
     "execution_count": 100,
     "metadata": {},
     "output_type": "execute_result"
    }
   ],
   "source": [
    "birthdays = np.random.choice(outcomes, (n_trials, n_people))\n",
    "birthdays"
   ]
  },
  {
   "cell_type": "code",
   "execution_count": 102,
   "id": "31c2b02d",
   "metadata": {},
   "outputs": [
    {
     "data": {
      "text/html": [
       "<div>\n",
       "<style scoped>\n",
       "    .dataframe tbody tr th:only-of-type {\n",
       "        vertical-align: middle;\n",
       "    }\n",
       "\n",
       "    .dataframe tbody tr th {\n",
       "        vertical-align: top;\n",
       "    }\n",
       "\n",
       "    .dataframe thead th {\n",
       "        text-align: right;\n",
       "    }\n",
       "</style>\n",
       "<table border=\"1\" class=\"dataframe\">\n",
       "  <thead>\n",
       "    <tr style=\"text-align: right;\">\n",
       "      <th></th>\n",
       "      <th>0</th>\n",
       "      <th>1</th>\n",
       "      <th>2</th>\n",
       "      <th>3</th>\n",
       "      <th>4</th>\n",
       "      <th>5</th>\n",
       "      <th>6</th>\n",
       "      <th>7</th>\n",
       "      <th>8</th>\n",
       "      <th>9</th>\n",
       "      <th>...</th>\n",
       "      <th>13</th>\n",
       "      <th>14</th>\n",
       "      <th>15</th>\n",
       "      <th>16</th>\n",
       "      <th>17</th>\n",
       "      <th>18</th>\n",
       "      <th>19</th>\n",
       "      <th>20</th>\n",
       "      <th>21</th>\n",
       "      <th>22</th>\n",
       "    </tr>\n",
       "  </thead>\n",
       "  <tbody>\n",
       "    <tr>\n",
       "      <th>0</th>\n",
       "      <td>345</td>\n",
       "      <td>156</td>\n",
       "      <td>195</td>\n",
       "      <td>160</td>\n",
       "      <td>279</td>\n",
       "      <td>292</td>\n",
       "      <td>220</td>\n",
       "      <td>289</td>\n",
       "      <td>320</td>\n",
       "      <td>129</td>\n",
       "      <td>...</td>\n",
       "      <td>246</td>\n",
       "      <td>351</td>\n",
       "      <td>326</td>\n",
       "      <td>302</td>\n",
       "      <td>202</td>\n",
       "      <td>189</td>\n",
       "      <td>95</td>\n",
       "      <td>169</td>\n",
       "      <td>109</td>\n",
       "      <td>197</td>\n",
       "    </tr>\n",
       "    <tr>\n",
       "      <th>1</th>\n",
       "      <td>200</td>\n",
       "      <td>249</td>\n",
       "      <td>270</td>\n",
       "      <td>260</td>\n",
       "      <td>132</td>\n",
       "      <td>137</td>\n",
       "      <td>300</td>\n",
       "      <td>35</td>\n",
       "      <td>81</td>\n",
       "      <td>36</td>\n",
       "      <td>...</td>\n",
       "      <td>318</td>\n",
       "      <td>116</td>\n",
       "      <td>259</td>\n",
       "      <td>251</td>\n",
       "      <td>221</td>\n",
       "      <td>128</td>\n",
       "      <td>166</td>\n",
       "      <td>6</td>\n",
       "      <td>55</td>\n",
       "      <td>237</td>\n",
       "    </tr>\n",
       "    <tr>\n",
       "      <th>2</th>\n",
       "      <td>321</td>\n",
       "      <td>131</td>\n",
       "      <td>78</td>\n",
       "      <td>331</td>\n",
       "      <td>247</td>\n",
       "      <td>130</td>\n",
       "      <td>2</td>\n",
       "      <td>156</td>\n",
       "      <td>227</td>\n",
       "      <td>74</td>\n",
       "      <td>...</td>\n",
       "      <td>353</td>\n",
       "      <td>32</td>\n",
       "      <td>263</td>\n",
       "      <td>282</td>\n",
       "      <td>235</td>\n",
       "      <td>238</td>\n",
       "      <td>269</td>\n",
       "      <td>322</td>\n",
       "      <td>51</td>\n",
       "      <td>198</td>\n",
       "    </tr>\n",
       "    <tr>\n",
       "      <th>3</th>\n",
       "      <td>191</td>\n",
       "      <td>328</td>\n",
       "      <td>255</td>\n",
       "      <td>252</td>\n",
       "      <td>243</td>\n",
       "      <td>300</td>\n",
       "      <td>144</td>\n",
       "      <td>51</td>\n",
       "      <td>194</td>\n",
       "      <td>317</td>\n",
       "      <td>...</td>\n",
       "      <td>270</td>\n",
       "      <td>24</td>\n",
       "      <td>100</td>\n",
       "      <td>117</td>\n",
       "      <td>349</td>\n",
       "      <td>167</td>\n",
       "      <td>78</td>\n",
       "      <td>282</td>\n",
       "      <td>58</td>\n",
       "      <td>208</td>\n",
       "    </tr>\n",
       "    <tr>\n",
       "      <th>4</th>\n",
       "      <td>296</td>\n",
       "      <td>128</td>\n",
       "      <td>298</td>\n",
       "      <td>56</td>\n",
       "      <td>359</td>\n",
       "      <td>210</td>\n",
       "      <td>165</td>\n",
       "      <td>241</td>\n",
       "      <td>132</td>\n",
       "      <td>181</td>\n",
       "      <td>...</td>\n",
       "      <td>339</td>\n",
       "      <td>97</td>\n",
       "      <td>6</td>\n",
       "      <td>185</td>\n",
       "      <td>158</td>\n",
       "      <td>148</td>\n",
       "      <td>30</td>\n",
       "      <td>8</td>\n",
       "      <td>250</td>\n",
       "      <td>127</td>\n",
       "    </tr>\n",
       "  </tbody>\n",
       "</table>\n",
       "<p>5 rows × 23 columns</p>\n",
       "</div>"
      ],
      "text/plain": [
       "    0    1    2    3    4    5    6    7    8    9   ...   13   14   15   16  \\\n",
       "0  345  156  195  160  279  292  220  289  320  129  ...  246  351  326  302   \n",
       "1  200  249  270  260  132  137  300   35   81   36  ...  318  116  259  251   \n",
       "2  321  131   78  331  247  130    2  156  227   74  ...  353   32  263  282   \n",
       "3  191  328  255  252  243  300  144   51  194  317  ...  270   24  100  117   \n",
       "4  296  128  298   56  359  210  165  241  132  181  ...  339   97    6  185   \n",
       "\n",
       "    17   18   19   20   21   22  \n",
       "0  202  189   95  169  109  197  \n",
       "1  221  128  166    6   55  237  \n",
       "2  235  238  269  322   51  198  \n",
       "3  349  167   78  282   58  208  \n",
       "4  158  148   30    8  250  127  \n",
       "\n",
       "[5 rows x 23 columns]"
      ]
     },
     "execution_count": 102,
     "metadata": {},
     "output_type": "execute_result"
    }
   ],
   "source": [
    "birthdays = pd.DataFrame(birthdays)\n",
    "birthdays.head()"
   ]
  },
  {
   "cell_type": "code",
   "execution_count": 104,
   "id": "bc54c2bd",
   "metadata": {},
   "outputs": [
    {
     "data": {
      "text/plain": [
       "0        23\n",
       "1        23\n",
       "2        22\n",
       "3        23\n",
       "4        23\n",
       "         ..\n",
       "99995    23\n",
       "99996    22\n",
       "99997    23\n",
       "99998    22\n",
       "99999    23\n",
       "Length: 100000, dtype: int64"
      ]
     },
     "execution_count": 104,
     "metadata": {},
     "output_type": "execute_result"
    }
   ],
   "source": [
    "# how many unique values exist for each row\n",
    "\n",
    "birthdays.nunique(axis = 1)"
   ]
  },
  {
   "cell_type": "code",
   "execution_count": 105,
   "id": "6f9e85ae",
   "metadata": {},
   "outputs": [
    {
     "data": {
      "text/plain": [
       "0        False\n",
       "1        False\n",
       "2         True\n",
       "3        False\n",
       "4        False\n",
       "         ...  \n",
       "99995    False\n",
       "99996     True\n",
       "99997    False\n",
       "99998     True\n",
       "99999    False\n",
       "Length: 100000, dtype: bool"
      ]
     },
     "execution_count": 105,
     "metadata": {},
     "output_type": "execute_result"
    }
   ],
   "source": [
    "birthdays.nunique(axis = 1) < n_people"
   ]
  },
  {
   "cell_type": "code",
   "execution_count": 106,
   "id": "9f5384eb",
   "metadata": {},
   "outputs": [
    {
     "data": {
      "text/plain": [
       "0.50711"
      ]
     },
     "execution_count": 106,
     "metadata": {},
     "output_type": "execute_result"
    }
   ],
   "source": [
    "(birthdays.nunique(axis = 1) < n_people).mean()"
   ]
  },
  {
   "cell_type": "markdown",
   "id": "a7d264b9",
   "metadata": {},
   "source": [
    "`Be sure to add, commit, and push your work.`"
   ]
  },
  {
   "cell_type": "markdown",
   "id": "5893d32a",
   "metadata": {},
   "source": [
    "### What if it's 20 people? "
   ]
  },
  {
   "cell_type": "code",
   "execution_count": 108,
   "id": "7e4f4fb7",
   "metadata": {},
   "outputs": [
    {
     "data": {
      "text/plain": [
       "0.41297"
      ]
     },
     "execution_count": 108,
     "metadata": {},
     "output_type": "execute_result"
    }
   ],
   "source": [
    "n_people = 20\n",
    "\n",
    "birthdays = np.random.choice(outcomes, (n_trials, n_people))\n",
    "birthdays = pd.DataFrame(birthdays)\n",
    "\n",
    "(birthdays.nunique(axis = 1) < n_people).mean()"
   ]
  },
  {
   "cell_type": "markdown",
   "id": "7e092e61",
   "metadata": {},
   "source": [
    "### 40?"
   ]
  },
  {
   "cell_type": "code",
   "execution_count": 109,
   "id": "36d95341",
   "metadata": {},
   "outputs": [
    {
     "data": {
      "text/plain": [
       "0.89036"
      ]
     },
     "execution_count": 109,
     "metadata": {},
     "output_type": "execute_result"
    }
   ],
   "source": [
    "n_people = 40\n",
    "\n",
    "birthdays = np.random.choice(outcomes, (n_trials, n_people))\n",
    "birthdays = pd.DataFrame(birthdays)\n",
    "\n",
    "(birthdays.nunique(axis = 1) < n_people).mean()"
   ]
  },
  {
   "cell_type": "markdown",
   "id": "39ea8fa6",
   "metadata": {},
   "source": [
    "#### Bonus Exercises"
   ]
  },
  {
   "cell_type": "markdown",
   "id": "e2754c29",
   "metadata": {},
   "source": [
    "* Mage Duel (link in book)"
   ]
  },
  {
   "cell_type": "markdown",
   "id": "8b9e1372",
   "metadata": {},
   "source": [
    "* Chuck a Luck (link in book)"
   ]
  }
 ],
 "metadata": {
  "kernelspec": {
   "display_name": "Python 3 (ipykernel)",
   "language": "python",
   "name": "python3"
  },
  "language_info": {
   "codemirror_mode": {
    "name": "ipython",
    "version": 3
   },
   "file_extension": ".py",
   "mimetype": "text/x-python",
   "name": "python",
   "nbconvert_exporter": "python",
   "pygments_lexer": "ipython3",
   "version": "3.11.5"
  }
 },
 "nbformat": 4,
 "nbformat_minor": 5
}
