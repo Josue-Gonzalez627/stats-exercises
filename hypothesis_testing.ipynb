{
 "cells": [
  {
   "cell_type": "markdown",
   "id": "b29ce059",
   "metadata": {},
   "source": [
    "# Exercises (Overview)"
   ]
  },
  {
   "cell_type": "markdown",
   "id": "5aec48a3",
   "metadata": {},
   "source": [
    "### For each of the following questions, formulate a null and alternative hypothesis (be as specific as you can be), then give an example of what a true positive, true negative, type I and type II errors would look like. \n",
    "\n",
    "#### Note that some of the questions are intentionally phrased in a vague way. It is your job to reword these as more precise questions that could be tested."
   ]
  },
  {
   "cell_type": "markdown",
   "id": "2185f795",
   "metadata": {},
   "source": [
    "#### Has the network latency gone up since we switched internet service providers?"
   ]
  },
  {
   "cell_type": "markdown",
   "id": "d7db441a",
   "metadata": {},
   "source": [
    "* **null_hypothesis** = switching internet service providers makes **no difference** on the latency\n",
    "\n",
    "* **alternate_hypothesis** = switching internet service providers makes **a difference** on the latency\n",
    "\n",
    "* **True Positive**: The internet service provider **does** affect the network latency, and we were correct\n",
    "\n",
    "* **True Negative**: The internet service provider **does NOT** affect the network latency, and we were correct\n",
    "\n",
    "* **Type I Error (False Positive)**: The internet service provider **does** affect the network latency, and we were **WRONG**\n",
    "\n",
    "* **Type II Error(False Negative)**: The internet service provider **does NOT** affect the network latency, and we were **WRONG**\n"
   ]
  },
  {
   "cell_type": "code",
   "execution_count": null,
   "id": "e5cb5084",
   "metadata": {},
   "outputs": [],
   "source": []
  },
  {
   "cell_type": "markdown",
   "id": "8c2fc2f3",
   "metadata": {},
   "source": [
    "#### Is the website redesign any good?"
   ]
  },
  {
   "cell_type": "markdown",
   "id": "354cdc96",
   "metadata": {},
   "source": []
  },
  {
   "cell_type": "markdown",
   "id": "6e12827a",
   "metadata": {},
   "source": [
    "#### Is our television ad driving more sales?"
   ]
  },
  {
   "cell_type": "markdown",
   "id": "093fa15d",
   "metadata": {},
   "source": []
  },
  {
   "cell_type": "code",
   "execution_count": null,
   "id": "3b09282d",
   "metadata": {},
   "outputs": [],
   "source": []
  },
  {
   "cell_type": "markdown",
   "id": "590b1386",
   "metadata": {},
   "source": [
    "# Exercises (Comparison of Groups)\n",
    "## chi_squared_exercises"
   ]
  },
  {
   "cell_type": "markdown",
   "id": "bb201984",
   "metadata": {},
   "source": [
    "Continue working in your hypothesis_testing notebook."
   ]
  },
  {
   "cell_type": "code",
   "execution_count": 1,
   "id": "69a54a6e",
   "metadata": {},
   "outputs": [],
   "source": [
    "import pandas as pd\n",
    "import numpy as np\n",
    "\n",
    "from pydataset import data\n",
    "\n",
    "from scipy import stats\n",
    "import env"
   ]
  },
  {
   "cell_type": "markdown",
   "id": "ad860c95",
   "metadata": {},
   "source": [
    "### 1. Use the following contingency table to help answer the question of whether using a Macbook and being a Codeup student are independent of each other.\n",
    "\n",
    " \t                    Codeup Student       Not Codeup Student\n",
    "    Uses a Macbook\t        49\t              20\n",
    "    Doesn't Use A Macbook\t1\t              30"
   ]
  },
  {
   "cell_type": "code",
   "execution_count": 47,
   "id": "d8e5508a",
   "metadata": {},
   "outputs": [
    {
     "data": {
      "text/plain": [
       "{'Codeup Student': [49, 1], 'Not a Codeup Student': [20, 30]}"
      ]
     },
     "execution_count": 47,
     "metadata": {},
     "output_type": "execute_result"
    }
   ],
   "source": [
    "data_dict = {'Codeup Student': [49,1], 'Not a Codeup Student':[20,30]}\n",
    "data_dict\n",
    "#could also make a list of lists"
   ]
  },
  {
   "cell_type": "code",
   "execution_count": 48,
   "id": "199002a1",
   "metadata": {
    "scrolled": false
   },
   "outputs": [
    {
     "data": {
      "text/html": [
       "<div>\n",
       "<style scoped>\n",
       "    .dataframe tbody tr th:only-of-type {\n",
       "        vertical-align: middle;\n",
       "    }\n",
       "\n",
       "    .dataframe tbody tr th {\n",
       "        vertical-align: top;\n",
       "    }\n",
       "\n",
       "    .dataframe thead th {\n",
       "        text-align: right;\n",
       "    }\n",
       "</style>\n",
       "<table border=\"1\" class=\"dataframe\">\n",
       "  <thead>\n",
       "    <tr style=\"text-align: right;\">\n",
       "      <th></th>\n",
       "      <th>Codeup Student</th>\n",
       "      <th>Not a Codeup Student</th>\n",
       "    </tr>\n",
       "  </thead>\n",
       "  <tbody>\n",
       "    <tr>\n",
       "      <th>Uses a Macbook</th>\n",
       "      <td>49</td>\n",
       "      <td>20</td>\n",
       "    </tr>\n",
       "    <tr>\n",
       "      <th>doesn't Use a Macbook</th>\n",
       "      <td>1</td>\n",
       "      <td>30</td>\n",
       "    </tr>\n",
       "  </tbody>\n",
       "</table>\n",
       "</div>"
      ],
      "text/plain": [
       "                       Codeup Student  Not a Codeup Student\n",
       "Uses a Macbook                     49                    20\n",
       "doesn't Use a Macbook               1                    30"
      ]
     },
     "execution_count": 48,
     "metadata": {},
     "output_type": "execute_result"
    }
   ],
   "source": [
    "observed = pd.DataFrame(data_dict, index=['Uses a Macbook','doesn\\'t Use a Macbook'])\n",
    "observed"
   ]
  },
  {
   "cell_type": "markdown",
   "id": "ab042beb",
   "metadata": {},
   "source": [
    "#### set my hypothesis and alpha"
   ]
  },
  {
   "cell_type": "markdown",
   "id": "6e7e0c14",
   "metadata": {},
   "source": [
    "$H_o$: There is **no** relationship between being a codeup student and using a macbook\n",
    "\n",
    "$H_a$: There **is** a relationship between being a codeup student and using a macbook"
   ]
  },
  {
   "cell_type": "code",
   "execution_count": 49,
   "id": "9d97f7dc",
   "metadata": {},
   "outputs": [],
   "source": [
    "alpha = 0.05"
   ]
  },
  {
   "cell_type": "markdown",
   "id": "433bedfe",
   "metadata": {},
   "source": [
    "##### calculate"
   ]
  },
  {
   "cell_type": "code",
   "execution_count": 50,
   "id": "f121801a",
   "metadata": {},
   "outputs": [
    {
     "data": {
      "text/plain": [
       "Chi2ContingencyResult(statistic=36.65264142122487, pvalue=1.4116760526193828e-09, dof=1, expected_freq=array([[34.5, 34.5],\n",
       "       [15.5, 15.5]]))"
      ]
     },
     "execution_count": 50,
     "metadata": {},
     "output_type": "execute_result"
    }
   ],
   "source": [
    "stats.chi2_contingency(observed)"
   ]
  },
  {
   "cell_type": "code",
   "execution_count": 51,
   "id": "0b7a6497",
   "metadata": {},
   "outputs": [],
   "source": [
    "chi2, p, dof, expected = stats.chi2_contingency(observed)"
   ]
  },
  {
   "cell_type": "code",
   "execution_count": 52,
   "id": "e89ca771",
   "metadata": {},
   "outputs": [
    {
     "data": {
      "text/plain": [
       "array([[34.5, 34.5],\n",
       "       [15.5, 15.5]])"
      ]
     },
     "execution_count": 52,
     "metadata": {},
     "output_type": "execute_result"
    }
   ],
   "source": [
    "expected"
   ]
  },
  {
   "cell_type": "code",
   "execution_count": 53,
   "id": "3c2f40e4",
   "metadata": {},
   "outputs": [
    {
     "data": {
      "text/plain": [
       "array([[49, 20],\n",
       "       [ 1, 30]])"
      ]
     },
     "execution_count": 53,
     "metadata": {},
     "output_type": "execute_result"
    }
   ],
   "source": [
    "observed.values"
   ]
  },
  {
   "cell_type": "code",
   "execution_count": 54,
   "id": "ac65687c",
   "metadata": {},
   "outputs": [
    {
     "data": {
      "text/plain": [
       "(36.65264142122487, 1)"
      ]
     },
     "execution_count": 54,
     "metadata": {},
     "output_type": "execute_result"
    }
   ],
   "source": [
    "chi2, dof"
   ]
  },
  {
   "cell_type": "code",
   "execution_count": 55,
   "id": "633a230b",
   "metadata": {},
   "outputs": [
    {
     "data": {
      "text/plain": [
       "1.4116760526193828e-09"
      ]
     },
     "execution_count": 55,
     "metadata": {},
     "output_type": "execute_result"
    }
   ],
   "source": [
    "p"
   ]
  },
  {
   "cell_type": "markdown",
   "id": "27d507a1",
   "metadata": {},
   "source": [
    "##### conclude"
   ]
  },
  {
   "cell_type": "markdown",
   "id": "676784e5",
   "metadata": {},
   "source": [
    "My p-value is **less than** alpha, therefore, we reject the null hypothesis.\n",
    "\n",
    "We can conclude there is a relationship between being a codeup student and using a macbook."
   ]
  },
  {
   "cell_type": "markdown",
   "id": "333cec6a",
   "metadata": {},
   "source": [
    "### 2. Choose another 2 categorical variables from the mpg dataset."
   ]
  },
  {
   "cell_type": "code",
   "execution_count": 56,
   "id": "21ac6f80",
   "metadata": {},
   "outputs": [
    {
     "data": {
      "text/html": [
       "<div>\n",
       "<style scoped>\n",
       "    .dataframe tbody tr th:only-of-type {\n",
       "        vertical-align: middle;\n",
       "    }\n",
       "\n",
       "    .dataframe tbody tr th {\n",
       "        vertical-align: top;\n",
       "    }\n",
       "\n",
       "    .dataframe thead th {\n",
       "        text-align: right;\n",
       "    }\n",
       "</style>\n",
       "<table border=\"1\" class=\"dataframe\">\n",
       "  <thead>\n",
       "    <tr style=\"text-align: right;\">\n",
       "      <th></th>\n",
       "      <th>manufacturer</th>\n",
       "      <th>model</th>\n",
       "      <th>displ</th>\n",
       "      <th>year</th>\n",
       "      <th>cyl</th>\n",
       "      <th>trans</th>\n",
       "      <th>drv</th>\n",
       "      <th>cty</th>\n",
       "      <th>hwy</th>\n",
       "      <th>fl</th>\n",
       "      <th>class</th>\n",
       "    </tr>\n",
       "  </thead>\n",
       "  <tbody>\n",
       "    <tr>\n",
       "      <th>1</th>\n",
       "      <td>audi</td>\n",
       "      <td>a4</td>\n",
       "      <td>1.8</td>\n",
       "      <td>1999</td>\n",
       "      <td>4</td>\n",
       "      <td>auto(l5)</td>\n",
       "      <td>f</td>\n",
       "      <td>18</td>\n",
       "      <td>29</td>\n",
       "      <td>p</td>\n",
       "      <td>compact</td>\n",
       "    </tr>\n",
       "    <tr>\n",
       "      <th>2</th>\n",
       "      <td>audi</td>\n",
       "      <td>a4</td>\n",
       "      <td>1.8</td>\n",
       "      <td>1999</td>\n",
       "      <td>4</td>\n",
       "      <td>manual(m5)</td>\n",
       "      <td>f</td>\n",
       "      <td>21</td>\n",
       "      <td>29</td>\n",
       "      <td>p</td>\n",
       "      <td>compact</td>\n",
       "    </tr>\n",
       "    <tr>\n",
       "      <th>3</th>\n",
       "      <td>audi</td>\n",
       "      <td>a4</td>\n",
       "      <td>2.0</td>\n",
       "      <td>2008</td>\n",
       "      <td>4</td>\n",
       "      <td>manual(m6)</td>\n",
       "      <td>f</td>\n",
       "      <td>20</td>\n",
       "      <td>31</td>\n",
       "      <td>p</td>\n",
       "      <td>compact</td>\n",
       "    </tr>\n",
       "    <tr>\n",
       "      <th>4</th>\n",
       "      <td>audi</td>\n",
       "      <td>a4</td>\n",
       "      <td>2.0</td>\n",
       "      <td>2008</td>\n",
       "      <td>4</td>\n",
       "      <td>auto(av)</td>\n",
       "      <td>f</td>\n",
       "      <td>21</td>\n",
       "      <td>30</td>\n",
       "      <td>p</td>\n",
       "      <td>compact</td>\n",
       "    </tr>\n",
       "    <tr>\n",
       "      <th>5</th>\n",
       "      <td>audi</td>\n",
       "      <td>a4</td>\n",
       "      <td>2.8</td>\n",
       "      <td>1999</td>\n",
       "      <td>6</td>\n",
       "      <td>auto(l5)</td>\n",
       "      <td>f</td>\n",
       "      <td>16</td>\n",
       "      <td>26</td>\n",
       "      <td>p</td>\n",
       "      <td>compact</td>\n",
       "    </tr>\n",
       "  </tbody>\n",
       "</table>\n",
       "</div>"
      ],
      "text/plain": [
       "  manufacturer model  displ  year  cyl       trans drv  cty  hwy fl    class\n",
       "1         audi    a4    1.8  1999    4    auto(l5)   f   18   29  p  compact\n",
       "2         audi    a4    1.8  1999    4  manual(m5)   f   21   29  p  compact\n",
       "3         audi    a4    2.0  2008    4  manual(m6)   f   20   31  p  compact\n",
       "4         audi    a4    2.0  2008    4    auto(av)   f   21   30  p  compact\n",
       "5         audi    a4    2.8  1999    6    auto(l5)   f   16   26  p  compact"
      ]
     },
     "execution_count": 56,
     "metadata": {},
     "output_type": "execute_result"
    }
   ],
   "source": [
    "df = data('mpg')\n",
    "df.head()"
   ]
  },
  {
   "cell_type": "code",
   "execution_count": 57,
   "id": "9f9375ee",
   "metadata": {},
   "outputs": [
    {
     "data": {
      "text/plain": [
       "manufacturer    15\n",
       "model           38\n",
       "displ           35\n",
       "year             2\n",
       "cyl              4\n",
       "trans           10\n",
       "drv              3\n",
       "cty             21\n",
       "hwy             27\n",
       "fl               5\n",
       "class            7\n",
       "dtype: int64"
      ]
     },
     "execution_count": 57,
     "metadata": {},
     "output_type": "execute_result"
    }
   ],
   "source": [
    "df.nunique()"
   ]
  },
  {
   "cell_type": "markdown",
   "id": "36e0c8a8",
   "metadata": {},
   "source": [
    "##### setup"
   ]
  },
  {
   "cell_type": "markdown",
   "id": "a632407e",
   "metadata": {},
   "source": [
    "#### Q: Does the class of the car affect how many cylinders it has?"
   ]
  },
  {
   "cell_type": "markdown",
   "id": "3d4d10cc",
   "metadata": {},
   "source": [
    "##### State your null and alternative hypotheses."
   ]
  },
  {
   "cell_type": "markdown",
   "id": "dd9b645e",
   "metadata": {},
   "source": [
    "$H_o$: Car class is **independent** of number of cylinders.\n",
    "\n",
    "$H_a$: Car class is **dependent** of number of cylinders"
   ]
  },
  {
   "cell_type": "markdown",
   "id": "a41bbe66",
   "metadata": {},
   "source": [
    "##### State your alpha."
   ]
  },
  {
   "cell_type": "code",
   "execution_count": 58,
   "id": "b132dba2",
   "metadata": {},
   "outputs": [],
   "source": [
    "alpha = 0.05"
   ]
  },
  {
   "cell_type": "code",
   "execution_count": 59,
   "id": "ec06741d",
   "metadata": {},
   "outputs": [
    {
     "data": {
      "text/plain": [
       "cyl\n",
       "4    81\n",
       "6    79\n",
       "8    70\n",
       "5     4\n",
       "Name: count, dtype: int64"
      ]
     },
     "execution_count": 59,
     "metadata": {},
     "output_type": "execute_result"
    }
   ],
   "source": [
    "df.cyl.value_counts()"
   ]
  },
  {
   "cell_type": "code",
   "execution_count": 60,
   "id": "d6657e0e",
   "metadata": {},
   "outputs": [
    {
     "ename": "SyntaxError",
     "evalue": "invalid syntax (3473782885.py, line 1)",
     "output_type": "error",
     "traceback": [
      "\u001b[0;36m  Cell \u001b[0;32mIn[60], line 1\u001b[0;36m\u001b[0m\n\u001b[0;31m    df.class.value_counts() #class is a reserved word\u001b[0m\n\u001b[0m       ^\u001b[0m\n\u001b[0;31mSyntaxError\u001b[0m\u001b[0;31m:\u001b[0m invalid syntax\n"
     ]
    }
   ],
   "source": [
    "df.class.value_counts() #class is a reserved word"
   ]
  },
  {
   "cell_type": "code",
   "execution_count": 61,
   "id": "162e3ada",
   "metadata": {},
   "outputs": [
    {
     "data": {
      "text/plain": [
       "class\n",
       "suv           62\n",
       "compact       47\n",
       "midsize       41\n",
       "subcompact    35\n",
       "pickup        33\n",
       "minivan       11\n",
       "2seater        5\n",
       "Name: count, dtype: int64"
      ]
     },
     "execution_count": 61,
     "metadata": {},
     "output_type": "execute_result"
    }
   ],
   "source": [
    "(df['class']).value_counts()"
   ]
  },
  {
   "cell_type": "code",
   "execution_count": 62,
   "id": "75d5eb1d",
   "metadata": {},
   "outputs": [
    {
     "data": {
      "text/html": [
       "<div>\n",
       "<style scoped>\n",
       "    .dataframe tbody tr th:only-of-type {\n",
       "        vertical-align: middle;\n",
       "    }\n",
       "\n",
       "    .dataframe tbody tr th {\n",
       "        vertical-align: top;\n",
       "    }\n",
       "\n",
       "    .dataframe thead th {\n",
       "        text-align: right;\n",
       "    }\n",
       "</style>\n",
       "<table border=\"1\" class=\"dataframe\">\n",
       "  <thead>\n",
       "    <tr style=\"text-align: right;\">\n",
       "      <th>class</th>\n",
       "      <th>2seater</th>\n",
       "      <th>compact</th>\n",
       "      <th>midsize</th>\n",
       "      <th>minivan</th>\n",
       "      <th>pickup</th>\n",
       "      <th>subcompact</th>\n",
       "      <th>suv</th>\n",
       "    </tr>\n",
       "    <tr>\n",
       "      <th>cyl</th>\n",
       "      <th></th>\n",
       "      <th></th>\n",
       "      <th></th>\n",
       "      <th></th>\n",
       "      <th></th>\n",
       "      <th></th>\n",
       "      <th></th>\n",
       "    </tr>\n",
       "  </thead>\n",
       "  <tbody>\n",
       "    <tr>\n",
       "      <th>4</th>\n",
       "      <td>0</td>\n",
       "      <td>32</td>\n",
       "      <td>16</td>\n",
       "      <td>1</td>\n",
       "      <td>3</td>\n",
       "      <td>21</td>\n",
       "      <td>8</td>\n",
       "    </tr>\n",
       "    <tr>\n",
       "      <th>5</th>\n",
       "      <td>0</td>\n",
       "      <td>2</td>\n",
       "      <td>0</td>\n",
       "      <td>0</td>\n",
       "      <td>0</td>\n",
       "      <td>2</td>\n",
       "      <td>0</td>\n",
       "    </tr>\n",
       "    <tr>\n",
       "      <th>6</th>\n",
       "      <td>0</td>\n",
       "      <td>13</td>\n",
       "      <td>23</td>\n",
       "      <td>10</td>\n",
       "      <td>10</td>\n",
       "      <td>7</td>\n",
       "      <td>16</td>\n",
       "    </tr>\n",
       "    <tr>\n",
       "      <th>8</th>\n",
       "      <td>5</td>\n",
       "      <td>0</td>\n",
       "      <td>2</td>\n",
       "      <td>0</td>\n",
       "      <td>20</td>\n",
       "      <td>5</td>\n",
       "      <td>38</td>\n",
       "    </tr>\n",
       "  </tbody>\n",
       "</table>\n",
       "</div>"
      ],
      "text/plain": [
       "class  2seater  compact  midsize  minivan  pickup  subcompact  suv\n",
       "cyl                                                               \n",
       "4            0       32       16        1       3          21    8\n",
       "5            0        2        0        0       0           2    0\n",
       "6            0       13       23       10      10           7   16\n",
       "8            5        0        2        0      20           5   38"
      ]
     },
     "execution_count": 62,
     "metadata": {},
     "output_type": "execute_result"
    }
   ],
   "source": [
    "observed = pd.crosstab(df.cyl, df['class'])\n",
    "observed"
   ]
  },
  {
   "cell_type": "markdown",
   "id": "e9231144",
   "metadata": {},
   "source": [
    "##### Perform a chi2 test of independence."
   ]
  },
  {
   "cell_type": "code",
   "execution_count": 63,
   "id": "cad73750",
   "metadata": {},
   "outputs": [],
   "source": [
    "chi2, p, dof, expected = stats.chi2_contingency(observed)"
   ]
  },
  {
   "cell_type": "code",
   "execution_count": 64,
   "id": "e1d67992",
   "metadata": {},
   "outputs": [
    {
     "data": {
      "text/plain": [
       "array([[ 1.73076923, 16.26923077, 14.19230769,  3.80769231, 11.42307692,\n",
       "        12.11538462, 21.46153846],\n",
       "       [ 0.08547009,  0.8034188 ,  0.7008547 ,  0.18803419,  0.56410256,\n",
       "         0.5982906 ,  1.05982906],\n",
       "       [ 1.68803419, 15.86752137, 13.84188034,  3.71367521, 11.14102564,\n",
       "        11.81623932, 20.93162393],\n",
       "       [ 1.4957265 , 14.05982906, 12.26495726,  3.29059829,  9.87179487,\n",
       "        10.47008547, 18.54700855]])"
      ]
     },
     "execution_count": 64,
     "metadata": {},
     "output_type": "execute_result"
    }
   ],
   "source": [
    "expected"
   ]
  },
  {
   "cell_type": "code",
   "execution_count": 65,
   "id": "6aeef731",
   "metadata": {},
   "outputs": [
    {
     "data": {
      "text/plain": [
       "(138.02824375973248, 18)"
      ]
     },
     "execution_count": 65,
     "metadata": {},
     "output_type": "execute_result"
    }
   ],
   "source": [
    "chi2, dof"
   ]
  },
  {
   "cell_type": "code",
   "execution_count": 66,
   "id": "44701108",
   "metadata": {},
   "outputs": [
    {
     "data": {
      "text/plain": [
       "138.02824375973248"
      ]
     },
     "execution_count": 66,
     "metadata": {},
     "output_type": "execute_result"
    }
   ],
   "source": [
    "chi2"
   ]
  },
  {
   "cell_type": "code",
   "execution_count": 67,
   "id": "f071ace7",
   "metadata": {},
   "outputs": [
    {
     "data": {
      "text/plain": [
       "1.5351076620141522e-20"
      ]
     },
     "execution_count": 67,
     "metadata": {},
     "output_type": "execute_result"
    }
   ],
   "source": [
    "p"
   ]
  },
  {
   "cell_type": "code",
   "execution_count": 68,
   "id": "9159cd8f",
   "metadata": {},
   "outputs": [
    {
     "name": "stdout",
     "output_type": "stream",
     "text": [
      "Observed\n",
      "[[ 0 32 16  1  3 21  8]\n",
      " [ 0  2  0  0  0  2  0]\n",
      " [ 0 13 23 10 10  7 16]\n",
      " [ 5  0  2  0 20  5 38]]\n",
      "\n",
      "Expected\n",
      "[[ 1 16 14  3 11 12 21]\n",
      " [ 0  0  0  0  0  0  1]\n",
      " [ 1 15 13  3 11 11 20]\n",
      " [ 1 14 12  3  9 10 18]]\n",
      "\n",
      "----\n",
      "chi^2 = 138.0282\n",
      "p     = 0.0000\n"
     ]
    }
   ],
   "source": [
    "print('Observed')\n",
    "print(observed.values)\n",
    "print('\\nExpected')\n",
    "print(expected.astype(int))\n",
    "print('\\n----')\n",
    "print(f'chi^2 = {chi2:.4f}')\n",
    "print(f'p     = {p:.4f}')"
   ]
  },
  {
   "cell_type": "markdown",
   "id": "323fb9cf",
   "metadata": {},
   "source": [
    "##### State your conclusion"
   ]
  },
  {
   "cell_type": "markdown",
   "id": "fedb158e",
   "metadata": {},
   "source": [
    "My p-value is **less** than alpha α, therefore, we reject the null hypothesis.\n",
    "\n",
    "We can conclude that car class is dependent on number of cylinders"
   ]
  },
  {
   "cell_type": "markdown",
   "id": "0c61af50",
   "metadata": {},
   "source": [
    "### 3. Use the data from the employees database to answer these questions:"
   ]
  },
  {
   "cell_type": "code",
   "execution_count": 10,
   "id": "1ac44b4e",
   "metadata": {},
   "outputs": [],
   "source": [
    "from env import user, password, host ### I added this and it made the first code work (w/out the env. in front)\n",
    "\n",
    "#in my env file\n",
    "def get_db_url(db, user=user, password=password, host=host):\n",
    "    return (f'mysql+pymysql://{user}:{password}@{host}/{db}')\n",
    "\n",
    "\n",
    "# get_db_url = f'mysql+pymysql://{env.user}:{env.password}@{env.host}/employees'   \n",
    "                    ### From Advanced DF (I guess needed for either the above or below code?)\n",
    "\n",
    "# def get_db_url(user, password, host, database):\n",
    "#     return f'mysql+pymysql://{user}:{password}@{host}/{database}'\n",
    "                    ### This is how I've done it before but need more practice"
   ]
  },
  {
   "cell_type": "code",
   "execution_count": 11,
   "id": "cc403be7",
   "metadata": {},
   "outputs": [],
   "source": [
    "url = env.get_db_url('employees')"
   ]
  },
  {
   "cell_type": "code",
   "execution_count": 12,
   "id": "3f9f88c5",
   "metadata": {},
   "outputs": [
    {
     "data": {
      "text/html": [
       "<div>\n",
       "<style scoped>\n",
       "    .dataframe tbody tr th:only-of-type {\n",
       "        vertical-align: middle;\n",
       "    }\n",
       "\n",
       "    .dataframe tbody tr th {\n",
       "        vertical-align: top;\n",
       "    }\n",
       "\n",
       "    .dataframe thead th {\n",
       "        text-align: right;\n",
       "    }\n",
       "</style>\n",
       "<table border=\"1\" class=\"dataframe\">\n",
       "  <thead>\n",
       "    <tr style=\"text-align: right;\">\n",
       "      <th></th>\n",
       "      <th>Tables_in_employees</th>\n",
       "    </tr>\n",
       "  </thead>\n",
       "  <tbody>\n",
       "    <tr>\n",
       "      <th>0</th>\n",
       "      <td>departments</td>\n",
       "    </tr>\n",
       "    <tr>\n",
       "      <th>1</th>\n",
       "      <td>dept_emp</td>\n",
       "    </tr>\n",
       "    <tr>\n",
       "      <th>2</th>\n",
       "      <td>dept_manager</td>\n",
       "    </tr>\n",
       "    <tr>\n",
       "      <th>3</th>\n",
       "      <td>employees</td>\n",
       "    </tr>\n",
       "    <tr>\n",
       "      <th>4</th>\n",
       "      <td>salaries</td>\n",
       "    </tr>\n",
       "    <tr>\n",
       "      <th>5</th>\n",
       "      <td>titles</td>\n",
       "    </tr>\n",
       "  </tbody>\n",
       "</table>\n",
       "</div>"
      ],
      "text/plain": [
       "  Tables_in_employees\n",
       "0         departments\n",
       "1            dept_emp\n",
       "2        dept_manager\n",
       "3           employees\n",
       "4            salaries\n",
       "5              titles"
      ]
     },
     "execution_count": 12,
     "metadata": {},
     "output_type": "execute_result"
    }
   ],
   "source": [
    "pd.read_sql('show tables', url)"
   ]
  },
  {
   "cell_type": "markdown",
   "id": "cd7f6d9e",
   "metadata": {},
   "source": [
    "### Is an employee's gender independent of whether an employee works in sales or marketing? (only look at current employees)"
   ]
  },
  {
   "cell_type": "code",
   "execution_count": null,
   "id": "9e1cd643",
   "metadata": {},
   "outputs": [],
   "source": [
    "query = '''\n",
    "select *\n",
    "from employees as e\n",
    "    join dept_emp as de\n",
    "        using\n",
    "    \n",
    "'''"
   ]
  },
  {
   "cell_type": "code",
   "execution_count": 6,
   "id": "256990f3",
   "metadata": {},
   "outputs": [
    {
     "ename": "NameError",
     "evalue": "name 'query' is not defined",
     "output_type": "error",
     "traceback": [
      "\u001b[0;31m---------------------------------------------------------------------------\u001b[0m",
      "\u001b[0;31mNameError\u001b[0m                                 Traceback (most recent call last)",
      "Cell \u001b[0;32mIn[6], line 1\u001b[0m\n\u001b[0;32m----> 1\u001b[0m df \u001b[38;5;241m=\u001b[39m pd\u001b[38;5;241m.\u001b[39mread_sql(query, url)\n",
      "\u001b[0;31mNameError\u001b[0m: name 'query' is not defined"
     ]
    }
   ],
   "source": [
    "df = pd.read_sql(query, url)"
   ]
  },
  {
   "cell_type": "code",
   "execution_count": null,
   "id": "cea3afb1",
   "metadata": {},
   "outputs": [],
   "source": [
    "df.head()"
   ]
  },
  {
   "cell_type": "markdown",
   "id": "108020c7",
   "metadata": {},
   "source": [
    "##### setup"
   ]
  },
  {
   "cell_type": "markdown",
   "id": "a3221346",
   "metadata": {},
   "source": [
    "There is "
   ]
  },
  {
   "cell_type": "markdown",
   "id": "fe32484b",
   "metadata": {},
   "source": [
    "##### calculate"
   ]
  },
  {
   "cell_type": "code",
   "execution_count": null,
   "id": "df49fe8a",
   "metadata": {},
   "outputs": [],
   "source": [
    "df.gender.value_counts()"
   ]
  },
  {
   "cell_type": "code",
   "execution_count": null,
   "id": "414679d0",
   "metadata": {},
   "outputs": [],
   "source": [
    "df.dept_name.value_counts()"
   ]
  },
  {
   "cell_type": "code",
   "execution_count": null,
   "id": "d0f4dbbc",
   "metadata": {},
   "outputs": [],
   "source": [
    "observed = pd.crosstab(df.gender, df.dept_name)\n",
    "observed"
   ]
  },
  {
   "cell_type": "code",
   "execution_count": null,
   "id": "389044c2",
   "metadata": {},
   "outputs": [],
   "source": [
    "chi2, p, dof, expected = stats.chi2."
   ]
  },
  {
   "cell_type": "code",
   "execution_count": null,
   "id": "8435aa84",
   "metadata": {},
   "outputs": [],
   "source": [
    "chi2, dof"
   ]
  },
  {
   "cell_type": "code",
   "execution_count": null,
   "id": "a6af4880",
   "metadata": {},
   "outputs": [],
   "source": [
    "p"
   ]
  },
  {
   "cell_type": "markdown",
   "id": "b4e2ac10",
   "metadata": {},
   "source": [
    "##### conclude"
   ]
  },
  {
   "cell_type": "markdown",
   "id": "f9d6a312",
   "metadata": {},
   "source": [
    "My p-value is greater than alpha, therefore, fail to reject the null hypothesis.\n",
    "\n",
    "We can conclude there is no relationship between gender and department (sales or marketing only)"
   ]
  },
  {
   "cell_type": "markdown",
   "id": "6193416b",
   "metadata": {},
   "source": [
    "### Is an employee's gender independent of whether or not they are or have been a manager?"
   ]
  },
  {
   "cell_type": "code",
   "execution_count": null,
   "id": "227ab915",
   "metadata": {},
   "outputs": [],
   "source": [
    "query = '''\n",
    "select *\n",
    "from dept_manager\n",
    "    right join employees\n",
    "        using (emp_no)\n",
    ";\n",
    "'''"
   ]
  },
  {
   "cell_type": "code",
   "execution_count": null,
   "id": "15b62dc5",
   "metadata": {},
   "outputs": [],
   "source": [
    "pd.read_sql(query, url)"
   ]
  },
  {
   "cell_type": "code",
   "execution_count": null,
   "id": "17b0d95f",
   "metadata": {},
   "outputs": [],
   "source": [
    "df.head()"
   ]
  },
  {
   "cell_type": "code",
   "execution_count": null,
   "id": "2c9d050f",
   "metadata": {},
   "outputs": [],
   "source": [
    "df.gender.value_counts()"
   ]
  },
  {
   "cell_type": "code",
   "execution_count": null,
   "id": "2daa4f51",
   "metadata": {},
   "outputs": [],
   "source": [
    "df.to_date.value_counts(dropna=False) #to drop the null values\n",
    "\n",
    "#many things to clean right now because there are columns we don't need"
   ]
  },
  {
   "cell_type": "code",
   "execution_count": null,
   "id": "f56422aa",
   "metadata": {},
   "outputs": [],
   "source": [
    "df.to_date.isnull() #checking for not null values"
   ]
  },
  {
   "cell_type": "code",
   "execution_count": null,
   "id": "37554c08",
   "metadata": {},
   "outputs": [],
   "source": [
    "df['is_manager'] = df.to_date.notnull()"
   ]
  },
  {
   "cell_type": "code",
   "execution_count": null,
   "id": "5d22b376",
   "metadata": {},
   "outputs": [],
   "source": [
    "df"
   ]
  },
  {
   "cell_type": "code",
   "execution_count": null,
   "id": "6e7c7980",
   "metadata": {},
   "outputs": [],
   "source": [
    "df.is_manager.value_counts()"
   ]
  },
  {
   "cell_type": "code",
   "execution_count": null,
   "id": "31383592",
   "metadata": {},
   "outputs": [],
   "source": []
  },
  {
   "cell_type": "markdown",
   "id": "a44f9464",
   "metadata": {},
   "source": [
    "##### setup"
   ]
  },
  {
   "cell_type": "markdown",
   "id": "9a14dbf6",
   "metadata": {},
   "source": [
    "there is no relationship between gender and being a manager\n",
    "there is..."
   ]
  },
  {
   "cell_type": "markdown",
   "id": "70a9c879",
   "metadata": {},
   "source": [
    "##### calculate"
   ]
  },
  {
   "cell_type": "code",
   "execution_count": null,
   "id": "d04d4096",
   "metadata": {},
   "outputs": [],
   "source": [
    "observed = pd.crosstab(df.is_manager, df.gender)\n",
    "observed"
   ]
  },
  {
   "cell_type": "code",
   "execution_count": null,
   "id": "bd604cd5",
   "metadata": {},
   "outputs": [],
   "source": [
    "chi2, p, dof, expected = stats.chi2_contingency(observed)"
   ]
  },
  {
   "cell_type": "code",
   "execution_count": null,
   "id": "1cd49f14",
   "metadata": {},
   "outputs": [],
   "source": [
    "expected"
   ]
  },
  {
   "cell_type": "code",
   "execution_count": null,
   "id": "0a81ec0c",
   "metadata": {},
   "outputs": [],
   "source": [
    "chi2, dof"
   ]
  },
  {
   "cell_type": "code",
   "execution_count": null,
   "id": "c71dc2a7",
   "metadata": {},
   "outputs": [],
   "source": [
    "p"
   ]
  },
  {
   "cell_type": "markdown",
   "id": "ba180e1b",
   "metadata": {},
   "source": [
    "##### conclude"
   ]
  },
  {
   "cell_type": "markdown",
   "id": "3e87486d",
   "metadata": {},
   "source": [
    "My p-value is greater than alpha, **fail** to reject the null hypothesis.\n",
    "\n",
    "We can conclude there is **NO** relationship between gender and being a manager."
   ]
  },
  {
   "cell_type": "markdown",
   "id": "5acf7f06",
   "metadata": {},
   "source": [
    "# Exercises (Correlation)"
   ]
  },
  {
   "cell_type": "markdown",
   "id": "3c173eda",
   "metadata": {},
   "source": [
    "Continue working in your `hypothesis_testing` notebook."
   ]
  },
  {
   "cell_type": "markdown",
   "id": "8d97f3a7",
   "metadata": {},
   "source": [
    "### 1. Answer with the type of stats test you would use (assume normal distribution):"
   ]
  },
  {
   "cell_type": "markdown",
   "id": "20f1e210",
   "metadata": {},
   "source": [
    "* Is there a relationship between the length of your arm and the length of your foot?"
   ]
  },
  {
   "cell_type": "markdown",
   "id": "6f056b38",
   "metadata": {},
   "source": [
    "    -A: correlation, pearsonsr"
   ]
  },
  {
   "cell_type": "markdown",
   "id": "8c7e041a",
   "metadata": {},
   "source": [
    "* Does smoking affect when or not someone has lung cancer?"
   ]
  },
  {
   "cell_type": "markdown",
   "id": "0c9973e5",
   "metadata": {},
   "source": [
    "    -A: chi2"
   ]
  },
  {
   "cell_type": "markdown",
   "id": "653692e7",
   "metadata": {},
   "source": [
    "* Is gender independent of a person’s blood type?"
   ]
  },
  {
   "cell_type": "markdown",
   "id": "f6b27453",
   "metadata": {},
   "source": [
    "    -A: chi2"
   ]
  },
  {
   "cell_type": "markdown",
   "id": "eae43a69",
   "metadata": {},
   "source": [
    "* Does whether or not a person has a cat or dog affect whether they live in an apartment?"
   ]
  },
  {
   "cell_type": "markdown",
   "id": "13a5257d",
   "metadata": {},
   "source": [
    "    -A: chi2"
   ]
  },
  {
   "cell_type": "markdown",
   "id": "f4dae4bd",
   "metadata": {},
   "source": [
    "* Does the length of time of the lecture correlate with a student's grade?"
   ]
  },
  {
   "cell_type": "markdown",
   "id": "6d94a5e7",
   "metadata": {},
   "source": [
    "    -A: correlation"
   ]
  },
  {
   "cell_type": "markdown",
   "id": "0fc1c24f",
   "metadata": {},
   "source": [
    "### 2. Use the `telco_churn` data."
   ]
  },
  {
   "cell_type": "code",
   "execution_count": 13,
   "id": "ab46d522",
   "metadata": {},
   "outputs": [],
   "source": [
    "url = env.get_db_url('telco_churn')"
   ]
  },
  {
   "cell_type": "code",
   "execution_count": 14,
   "id": "e5451857",
   "metadata": {},
   "outputs": [
    {
     "data": {
      "text/html": [
       "<div>\n",
       "<style scoped>\n",
       "    .dataframe tbody tr th:only-of-type {\n",
       "        vertical-align: middle;\n",
       "    }\n",
       "\n",
       "    .dataframe tbody tr th {\n",
       "        vertical-align: top;\n",
       "    }\n",
       "\n",
       "    .dataframe thead th {\n",
       "        text-align: right;\n",
       "    }\n",
       "</style>\n",
       "<table border=\"1\" class=\"dataframe\">\n",
       "  <thead>\n",
       "    <tr style=\"text-align: right;\">\n",
       "      <th></th>\n",
       "      <th>Tables_in_telco_churn</th>\n",
       "    </tr>\n",
       "  </thead>\n",
       "  <tbody>\n",
       "    <tr>\n",
       "      <th>0</th>\n",
       "      <td>contract_types</td>\n",
       "    </tr>\n",
       "    <tr>\n",
       "      <th>1</th>\n",
       "      <td>customer_churn</td>\n",
       "    </tr>\n",
       "    <tr>\n",
       "      <th>2</th>\n",
       "      <td>customer_contracts</td>\n",
       "    </tr>\n",
       "    <tr>\n",
       "      <th>3</th>\n",
       "      <td>customer_details</td>\n",
       "    </tr>\n",
       "    <tr>\n",
       "      <th>4</th>\n",
       "      <td>customer_payments</td>\n",
       "    </tr>\n",
       "    <tr>\n",
       "      <th>5</th>\n",
       "      <td>customer_signups</td>\n",
       "    </tr>\n",
       "    <tr>\n",
       "      <th>6</th>\n",
       "      <td>customer_subscriptions</td>\n",
       "    </tr>\n",
       "    <tr>\n",
       "      <th>7</th>\n",
       "      <td>customers</td>\n",
       "    </tr>\n",
       "    <tr>\n",
       "      <th>8</th>\n",
       "      <td>internet_service_types</td>\n",
       "    </tr>\n",
       "    <tr>\n",
       "      <th>9</th>\n",
       "      <td>payment_types</td>\n",
       "    </tr>\n",
       "  </tbody>\n",
       "</table>\n",
       "</div>"
      ],
      "text/plain": [
       "    Tables_in_telco_churn\n",
       "0          contract_types\n",
       "1          customer_churn\n",
       "2      customer_contracts\n",
       "3        customer_details\n",
       "4       customer_payments\n",
       "5        customer_signups\n",
       "6  customer_subscriptions\n",
       "7               customers\n",
       "8  internet_service_types\n",
       "9           payment_types"
      ]
     },
     "execution_count": 14,
     "metadata": {},
     "output_type": "execute_result"
    }
   ],
   "source": [
    "pd.read_sql('show tables', url)"
   ]
  },
  {
   "cell_type": "markdown",
   "id": "31f7f103",
   "metadata": {},
   "source": [
    "* Does tenure correlate with monthly charges?"
   ]
  },
  {
   "cell_type": "code",
   "execution_count": null,
   "id": "a4ad0ece",
   "metadata": {},
   "outputs": [],
   "source": []
  },
  {
   "cell_type": "markdown",
   "id": "bb089980",
   "metadata": {},
   "source": [
    "* Total charges?"
   ]
  },
  {
   "cell_type": "code",
   "execution_count": null,
   "id": "ec72f0da",
   "metadata": {},
   "outputs": [],
   "source": []
  },
  {
   "cell_type": "markdown",
   "id": "fe8ecaea",
   "metadata": {},
   "source": [
    "* What happens if you control for phone and internet service?"
   ]
  },
  {
   "cell_type": "code",
   "execution_count": null,
   "id": "c835dec4",
   "metadata": {},
   "outputs": [],
   "source": []
  },
  {
   "cell_type": "markdown",
   "id": "c0684866",
   "metadata": {},
   "source": [
    "### 3. Use the `employees` database."
   ]
  },
  {
   "cell_type": "markdown",
   "id": "21acb049",
   "metadata": {},
   "source": [
    "* Is there a relationship between how long an employee has been with the company and their salary?"
   ]
  },
  {
   "cell_type": "code",
   "execution_count": null,
   "id": "2705e5ea",
   "metadata": {},
   "outputs": [],
   "source": []
  },
  {
   "cell_type": "markdown",
   "id": "bfac6001",
   "metadata": {},
   "source": [
    "* Is there a relationship between how long an employee has been with the company and the number of titles they have had?"
   ]
  },
  {
   "cell_type": "code",
   "execution_count": null,
   "id": "e7e2b4bb",
   "metadata": {},
   "outputs": [],
   "source": []
  },
  {
   "cell_type": "markdown",
   "id": "a9ca0760",
   "metadata": {},
   "source": [
    "### 4. Use the `sleepstudy` data."
   ]
  },
  {
   "cell_type": "markdown",
   "id": "87b2eac3",
   "metadata": {},
   "source": [
    "* Is there a relationship between days and reaction time?"
   ]
  },
  {
   "cell_type": "code",
   "execution_count": null,
   "id": "72901d12",
   "metadata": {},
   "outputs": [],
   "source": []
  },
  {
   "cell_type": "code",
   "execution_count": null,
   "id": "3f06974f",
   "metadata": {},
   "outputs": [],
   "source": []
  }
 ],
 "metadata": {
  "kernelspec": {
   "display_name": "Python 3 (ipykernel)",
   "language": "python",
   "name": "python3"
  },
  "language_info": {
   "codemirror_mode": {
    "name": "ipython",
    "version": 3
   },
   "file_extension": ".py",
   "mimetype": "text/x-python",
   "name": "python",
   "nbconvert_exporter": "python",
   "pygments_lexer": "ipython3",
   "version": "3.11.5"
  }
 },
 "nbformat": 4,
 "nbformat_minor": 5
}
